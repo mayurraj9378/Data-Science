{
  "nbformat": 4,
  "nbformat_minor": 0,
  "metadata": {
    "colab": {
      "provenance": [],
      "authorship_tag": "ABX9TyOZfqNTW9hjTNJlbwksisHX",
      "include_colab_link": true
    },
    "kernelspec": {
      "name": "python3",
      "display_name": "Python 3"
    },
    "language_info": {
      "name": "python"
    }
  },
  "cells": [
    {
      "cell_type": "markdown",
      "metadata": {
        "id": "view-in-github",
        "colab_type": "text"
      },
      "source": [
        "<a href=\"https://colab.research.google.com/github/mayurraj9378/Data-Science/blob/main/Sentiment_analysis.ipynb\" target=\"_parent\"><img src=\"https://colab.research.google.com/assets/colab-badge.svg\" alt=\"Open In Colab\"/></a>"
      ]
    },
    {
      "cell_type": "code",
      "source": [
        "import nltk\n",
        "nltk.download('vader_lexicon')"
      ],
      "metadata": {
        "colab": {
          "base_uri": "https://localhost:8080/"
        },
        "id": "E0CzIlX146D2",
        "outputId": "d913e032-6ba7-4b90-db34-f5c186c113b2"
      },
      "execution_count": 3,
      "outputs": [
        {
          "output_type": "stream",
          "name": "stderr",
          "text": [
            "[nltk_data] Downloading package vader_lexicon to /root/nltk_data...\n"
          ]
        },
        {
          "output_type": "execute_result",
          "data": {
            "text/plain": [
              "True"
            ]
          },
          "metadata": {},
          "execution_count": 3
        }
      ]
    },
    {
      "cell_type": "code",
      "source": [
        "from nltk.sentiment.vader import SentimentIntensityAnalyzer\n",
        "sid = SentimentIntensityAnalyzer()"
      ],
      "metadata": {
        "id": "iqrKs_4Y5h8D"
      },
      "execution_count": 5,
      "outputs": []
    },
    {
      "cell_type": "code",
      "source": [
        "text = 'the movie was a disaster. worst movie'\n",
        "score = sid.polarity_scores(text)\n",
        "print(score)"
      ],
      "metadata": {
        "colab": {
          "base_uri": "https://localhost:8080/"
        },
        "id": "uXal95KG54D_",
        "outputId": "25c01b3d-72d4-4115-aa22-8f4ce4004207"
      },
      "execution_count": 8,
      "outputs": [
        {
          "output_type": "stream",
          "name": "stdout",
          "text": [
            "{'neg': 0.672, 'neu': 0.328, 'pos': 0.0, 'compound': -0.8481}\n"
          ]
        }
      ]
    },
    {
      "cell_type": "code",
      "source": [
        "texts = [ \"I love this product! It works great and is very affordable.\",\n",
        "         \"This product is okay. It gets the job done, but could be better.\",\n",
        "          \"I hate this product. It doesn't work at all and is a waste of money.\",\n",
        "          \"I am watching a movie\" ]\n",
        "def sentimentFinder(text):\n",
        "    score = sid.polarity_scores(text)\n",
        "    compound = score['compound']\n",
        "    if compound >= 0.05:\n",
        "        return 'Positive'\n",
        "    elif compound <= -0.05:\n",
        "        return 'Negative'\n",
        "    else:\n",
        "        return 'Neutral'\n",
        "for text in texts:\n",
        "    sentiment = sentimentFinder(text)\n",
        "    print(f\"Text: {text}\\nSentiment: {sentiment}\\n\")"
      ],
      "metadata": {
        "colab": {
          "base_uri": "https://localhost:8080/"
        },
        "id": "zyYlD5QR6Kgt",
        "outputId": "452b16e7-0855-46d7-d0ac-54586828ff45"
      },
      "execution_count": 10,
      "outputs": [
        {
          "output_type": "stream",
          "name": "stdout",
          "text": [
            "Text: I love this product! It works great and is very affordable.\n",
            "Sentiment: Positive\n",
            "\n",
            "Text: This product is okay. It gets the job done, but could be better.\n",
            "Sentiment: Positive\n",
            "\n",
            "Text: I hate this product. It doesn't work at all and is a waste of money.\n",
            "Sentiment: Negative\n",
            "\n",
            "Text: I am watching a movie\n",
            "Sentiment: Neutral\n",
            "\n"
          ]
        }
      ]
    }
  ]
}