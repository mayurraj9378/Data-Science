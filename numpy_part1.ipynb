{
  "nbformat": 4,
  "nbformat_minor": 0,
  "metadata": {
    "colab": {
      "provenance": [],
      "authorship_tag": "ABX9TyNzRomUor207cS69aMKmBIa",
      "include_colab_link": true
    },
    "kernelspec": {
      "name": "python3",
      "display_name": "Python 3"
    },
    "language_info": {
      "name": "python"
    }
  },
  "cells": [
    {
      "cell_type": "markdown",
      "metadata": {
        "id": "view-in-github",
        "colab_type": "text"
      },
      "source": [
        "<a href=\"https://colab.research.google.com/github/mayurraj9378/Data-Science/blob/main/numpy_part1.ipynb\" target=\"_parent\"><img src=\"https://colab.research.google.com/assets/colab-badge.svg\" alt=\"Open In Colab\"/></a>"
      ]
    },
    {
      "cell_type": "code",
      "execution_count": null,
      "metadata": {
        "id": "uWYKCyTuC1sb"
      },
      "outputs": [],
      "source": [
        "import numpy as np"
      ]
    },
    {
      "cell_type": "code",
      "source": [
        "print (\"Hello World\")"
      ],
      "metadata": {
        "id": "HL5Fz8BlDQtx",
        "colab": {
          "base_uri": "https://localhost:8080/"
        },
        "outputId": "968e390f-3ad0-4368-e857-8aa3e4b5a34c"
      },
      "execution_count": null,
      "outputs": [
        {
          "output_type": "stream",
          "name": "stdout",
          "text": [
            "Hello World\n"
          ]
        }
      ]
    },
    {
      "cell_type": "code",
      "source": [
        "#What Is Data Science ?\n",
        "\n",
        "'''\n",
        "Data science is the study of data to extract meaningful insights for business.\n",
        "\n",
        "Data Science is a combination of multiple disciplines that uses statistics,\n",
        "data analysis, and machine learning to analyze data and to extract knowledge and\n",
        "insights from it.\n",
        "Data science is the domain of study that deals with vast volumes of data using\n",
        "modern tools and techniques to find unseen patterns, derive meaningful information,\n",
        "and make business decisions. Data science uses complex machine learning algorithms\n",
        "to build predictive models.\n",
        "\n",
        "Data Science is about data gathering, analysis and decision-making.\n",
        "\n",
        "Data Science is about finding patterns in data, through analysis, and make future predictions.\n",
        "\n",
        "By using Data Science, companies are able to make:\n",
        "Better decisions (should we choose A or B)\n",
        "Predictive analysis (what will happen next?)\n",
        "Pattern discoveries (find pattern, or maybe hidden information in the data)\n",
        "\n",
        "\n",
        "Where is Data Science Needed?\n",
        "Data Science is used in many industries in the world today, e.g. banking,\n",
        "consultancy, healthcare, and manufacturing.\n",
        "Examples of where Data Science is needed:\n",
        "\n",
        "For route planning: To discover the best routes to ship\n",
        "To foresee delays for flight/ship/train etc. (through predictive analysis)\n",
        "To create promotional offers\n",
        "To find the best suited time to deliver goods\n",
        "To forecast the next years revenue for a company\n",
        "To analyze health benefit of training\n",
        "To predict who will win elections\n",
        "\n",
        "'''\n",
        "# Numpy\n",
        "\n",
        "'''\n",
        "\n",
        "NumPy is a Python library used for working with arrays.\n",
        "\n",
        "It also has functions for working in domain of linear algebra, fourier transform,\n",
        "and matrices.\n",
        "\n",
        "NumPy was created in 2005 by Travis Oliphant. It is an open source project and you\n",
        "can use it freely.\n",
        "\n",
        "NumPy stands for Numerical Python.\n",
        "\n",
        "Why Use NumPy?\n",
        "\n",
        "In Python we have lists that serve the purpose of arrays, but they are slow to process.\n",
        "Yash Nexperts\n",
        "6:04 PM\n",
        "NumPy aims to provide an array object that is up to 50x faster than traditional Python lists.\n",
        "\n",
        "The array object in NumPy is called ndarray, it provides a lot of supporting functions\n",
        "that make working with ndarray very easy.\n",
        "\n",
        "Arrays are very frequently used in data science, where speed and resources are very important.\n",
        "\n",
        "'''"
      ],
      "metadata": {
        "id": "BAY4woifDQ_B"
      },
      "execution_count": null,
      "outputs": []
    },
    {
      "cell_type": "code",
      "source": [
        "print (np.__version__)"
      ],
      "metadata": {
        "id": "r0ez7wKvDRBQ",
        "colab": {
          "base_uri": "https://localhost:8080/"
        },
        "outputId": "3d837d09-790e-49d7-bcc4-fba8c94c0a8a"
      },
      "execution_count": null,
      "outputs": [
        {
          "output_type": "stream",
          "name": "stdout",
          "text": [
            "1.26.4\n"
          ]
        }
      ]
    },
    {
      "cell_type": "code",
      "source": [
        "list1 = [10,20,30,40]\n",
        "print(list1)\n",
        "print(type(list1))\n",
        "print(list1*2)"
      ],
      "metadata": {
        "id": "FTx-B4reDRDh",
        "colab": {
          "base_uri": "https://localhost:8080/"
        },
        "outputId": "2a36caa4-e839-4571-e059-6b64b956bf2b"
      },
      "execution_count": null,
      "outputs": [
        {
          "output_type": "stream",
          "name": "stdout",
          "text": [
            "[10, 20, 30, 40]\n",
            "<class 'list'>\n",
            "[10, 20, 30, 40, 10, 20, 30, 40]\n"
          ]
        }
      ]
    },
    {
      "cell_type": "markdown",
      "source": [
        "if you want to multiply the list by 2 here we see that the list duplicate is created by *2 operation"
      ],
      "metadata": {
        "id": "7zfrmmGwGW9Q"
      }
    },
    {
      "cell_type": "code",
      "source": [
        "#by arr its simple to do but by we have to apply the for loop\n",
        "list1 = [10,20,30,40]\n",
        "print(list1)\n",
        "for i in list1:\n",
        "    print(i*2)\n"
      ],
      "metadata": {
        "id": "yB4Cle1dDRFj",
        "colab": {
          "base_uri": "https://localhost:8080/"
        },
        "outputId": "de99e06c-ffcf-4379-bb7e-d64afac9f5c2"
      },
      "execution_count": null,
      "outputs": [
        {
          "output_type": "stream",
          "name": "stdout",
          "text": [
            "[10, 20, 30, 40]\n",
            "20\n",
            "40\n",
            "60\n",
            "80\n"
          ]
        }
      ]
    },
    {
      "cell_type": "code",
      "source": [
        "arr=([10,20,30,40])\n",
        "print(arr)"
      ],
      "metadata": {
        "colab": {
          "base_uri": "https://localhost:8080/"
        },
        "id": "eZIhpmISGagj",
        "outputId": "bff52a1a-cdd7-4fc4-cf67-d9e2cc26fdb7"
      },
      "execution_count": null,
      "outputs": [
        {
          "output_type": "stream",
          "name": "stdout",
          "text": [
            "[10, 20, 30, 40]\n"
          ]
        }
      ]
    },
    {
      "cell_type": "code",
      "source": [
        "print(arr*2)"
      ],
      "metadata": {
        "colab": {
          "base_uri": "https://localhost:8080/"
        },
        "id": "peZGL_EZGdf4",
        "outputId": "c1be23d8-6458-4452-f05f-20dbc5173471"
      },
      "execution_count": null,
      "outputs": [
        {
          "output_type": "stream",
          "name": "stdout",
          "text": [
            "[10, 20, 30, 40, 10, 20, 30, 40]\n"
          ]
        }
      ]
    },
    {
      "cell_type": "code",
      "source": [
        "#by array and by using the numpy\n",
        "arr=np.array([10,20,30,40])\n",
        "print(arr)\n",
        "print(arr*2)"
      ],
      "metadata": {
        "colab": {
          "base_uri": "https://localhost:8080/"
        },
        "id": "hjU3XIYMGhMe",
        "outputId": "abfb6a23-f1ed-42be-b186-4dc6f3652d8a"
      },
      "execution_count": null,
      "outputs": [
        {
          "output_type": "stream",
          "name": "stdout",
          "text": [
            "[10 20 30 40]\n",
            "[20 40 60 80]\n"
          ]
        }
      ]
    },
    {
      "cell_type": "markdown",
      "source": [
        "this what we do our simple arithematic operation is performed\n"
      ],
      "metadata": {
        "id": "aSCWgW6TGmSJ"
      }
    },
    {
      "cell_type": "markdown",
      "source": [
        "array is collection of similer collection of data types i.e if the any one of array collection only consist of integer,string,float etc if the array consist of mixed data type then the string is higher than the int then the int will be type cast as string itself"
      ],
      "metadata": {
        "id": "x4GSsZytGqfy"
      }
    },
    {
      "cell_type": "code",
      "source": [
        "arr2=np.array([10,20.30,'string',True])\n",
        "print(arr2)\n",
        "# #in the output you see that all the elements of collections are\n",
        "# type_casting to its int or bollean value to string data type\n",
        "\n",
        "\n"
      ],
      "metadata": {
        "colab": {
          "base_uri": "https://localhost:8080/"
        },
        "id": "qdT9dqQXGjuP",
        "outputId": "e99e61a9-a330-42c3-94d1-c930f872a6e5"
      },
      "execution_count": null,
      "outputs": [
        {
          "output_type": "stream",
          "name": "stdout",
          "text": [
            "['10' '20.3' 'string' 'True']\n"
          ]
        }
      ]
    },
    {
      "cell_type": "code",
      "source": [],
      "metadata": {
        "id": "qoxCZsVPGtQ6"
      },
      "execution_count": null,
      "outputs": []
    }
  ]
}