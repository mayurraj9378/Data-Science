{
  "nbformat": 4,
  "nbformat_minor": 0,
  "metadata": {
    "colab": {
      "provenance": [],
      "authorship_tag": "ABX9TyMXPfYG5nK/3M1YAsdZ+1iX",
      "include_colab_link": true
    },
    "kernelspec": {
      "name": "python3",
      "display_name": "Python 3"
    },
    "language_info": {
      "name": "python"
    }
  },
  "cells": [
    {
      "cell_type": "markdown",
      "metadata": {
        "id": "view-in-github",
        "colab_type": "text"
      },
      "source": [
        "<a href=\"https://colab.research.google.com/github/mayurraj9378/Data-Science/blob/main/NLP_AI.ipynb\" target=\"_parent\"><img src=\"https://colab.research.google.com/assets/colab-badge.svg\" alt=\"Open In Colab\"/></a>"
      ]
    },
    {
      "cell_type": "code",
      "source": [
        "#Machine Learning\n",
        "#AI --> 100+ tools\n",
        "#NLTK -> natural language tool kit\n",
        "#NLP\n",
        "#user reviews\n",
        "#tokenization\n",
        "\n"
      ],
      "metadata": {
        "id": "unjAWPuWhizl"
      },
      "execution_count": 96,
      "outputs": []
    },
    {
      "cell_type": "code",
      "source": [
        "import nltk\n",
        "nltk.download('punkt_tab')\n"
      ],
      "metadata": {
        "colab": {
          "base_uri": "https://localhost:8080/"
        },
        "id": "5SPGtKdvnAbr",
        "outputId": "7b2c195c-cda9-44a1-b7e5-3a9986c60c93"
      },
      "execution_count": 97,
      "outputs": [
        {
          "output_type": "stream",
          "name": "stderr",
          "text": [
            "[nltk_data] Downloading package punkt_tab to /root/nltk_data...\n",
            "[nltk_data]   Package punkt_tab is already up-to-date!\n"
          ]
        },
        {
          "output_type": "execute_result",
          "data": {
            "text/plain": [
              "True"
            ]
          },
          "metadata": {},
          "execution_count": 97
        }
      ]
    },
    {
      "cell_type": "code",
      "source": [
        "# Tokenization breaks the raw text into words, sentences called token\n",
        "from nltk.tokenize import sent_tokenize, word_tokenize"
      ],
      "metadata": {
        "id": "qzOCgwwYnDOM"
      },
      "execution_count": 98,
      "outputs": []
    },
    {
      "cell_type": "code",
      "source": [
        "text = 'Best quality, Great sound, Good comfort with superb Headphone Design.'\n",
        "print(sent_tokenize(text))"
      ],
      "metadata": {
        "colab": {
          "base_uri": "https://localhost:8080/"
        },
        "id": "W41BcbkWnbMR",
        "outputId": "4dd12911-4918-429a-8af4-911cf8200e40"
      },
      "execution_count": 99,
      "outputs": [
        {
          "output_type": "stream",
          "name": "stdout",
          "text": [
            "['Best quality, Great sound, Good comfort with superb Headphone Design.']\n"
          ]
        }
      ]
    },
    {
      "cell_type": "code",
      "source": [
        "text = \"I think built quality is okay in this price range. It totally made of plastic. But it is flexible for all size of heads. Also you can adjust headphone size as your need. Type C port for recharge battery, but it's not a USB port. I mean you can not load songs from your computer to memory card using type C port. It's just for charging purpose.\""
      ],
      "metadata": {
        "id": "a-gRTzaSnuK_"
      },
      "execution_count": 100,
      "outputs": []
    },
    {
      "cell_type": "code",
      "source": [
        "print(sent_tokenize(text))"
      ],
      "metadata": {
        "colab": {
          "base_uri": "https://localhost:8080/"
        },
        "id": "jAQc5SMFoKKP",
        "outputId": "ca65fed0-1106-41b2-93fd-090b0656f313"
      },
      "execution_count": 101,
      "outputs": [
        {
          "output_type": "stream",
          "name": "stdout",
          "text": [
            "['I think built quality is okay in this price range.', 'It totally made of plastic.', 'But it is flexible for all size of heads.', 'Also you can adjust headphone size as your need.', \"Type C port for recharge battery, but it's not a USB port.\", 'I mean you can not load songs from your computer to memory card using type C port.', \"It's just for charging purpose.\"]\n"
          ]
        }
      ]
    },
    {
      "cell_type": "code",
      "source": [
        "#split\n",
        "text = 'Best quality, Great sound, Good comfort with superb Headphone Design.'\n",
        "text.split()"
      ],
      "metadata": {
        "colab": {
          "base_uri": "https://localhost:8080/"
        },
        "id": "uhvCQCFBoMua",
        "outputId": "cdd59124-47f4-4a92-8ade-c2217916fa34"
      },
      "execution_count": 102,
      "outputs": [
        {
          "output_type": "execute_result",
          "data": {
            "text/plain": [
              "['Best',\n",
              " 'quality,',\n",
              " 'Great',\n",
              " 'sound,',\n",
              " 'Good',\n",
              " 'comfort',\n",
              " 'with',\n",
              " 'superb',\n",
              " 'Headphone',\n",
              " 'Design.']"
            ]
          },
          "metadata": {},
          "execution_count": 102
        }
      ]
    },
    {
      "cell_type": "code",
      "source": [
        "text = \"this is formula x=a+b/c use for simplification\"\n",
        "print(sent_tokenize(text))"
      ],
      "metadata": {
        "colab": {
          "base_uri": "https://localhost:8080/"
        },
        "id": "ASh0wgqZoYMT",
        "outputId": "9b717594-f340-4016-f79a-50f7064d6bbf"
      },
      "execution_count": 103,
      "outputs": [
        {
          "output_type": "stream",
          "name": "stdout",
          "text": [
            "['this is formula x=a+b/c use for simplification']\n"
          ]
        }
      ]
    },
    {
      "cell_type": "code",
      "source": [
        "nltk.download('stopwords')"
      ],
      "metadata": {
        "colab": {
          "base_uri": "https://localhost:8080/"
        },
        "id": "wRwE4x9MpS4i",
        "outputId": "821efa38-a371-49cb-fa20-1e24b6c52ff7"
      },
      "execution_count": 104,
      "outputs": [
        {
          "output_type": "stream",
          "name": "stderr",
          "text": [
            "[nltk_data] Downloading package stopwords to /root/nltk_data...\n",
            "[nltk_data]   Package stopwords is already up-to-date!\n"
          ]
        },
        {
          "output_type": "execute_result",
          "data": {
            "text/plain": [
              "True"
            ]
          },
          "metadata": {},
          "execution_count": 104
        }
      ]
    },
    {
      "cell_type": "code",
      "source": [
        "from nltk.corpus import stopwords\n",
        "stop_words = stopwords.words('english')\n",
        "print(stop_words)"
      ],
      "metadata": {
        "colab": {
          "base_uri": "https://localhost:8080/"
        },
        "id": "u6OZHatFqPD5",
        "outputId": "1654b27e-9613-478c-9d66-b5de15a0844a"
      },
      "execution_count": 105,
      "outputs": [
        {
          "output_type": "stream",
          "name": "stdout",
          "text": [
            "['a', 'about', 'above', 'after', 'again', 'against', 'ain', 'all', 'am', 'an', 'and', 'any', 'are', 'aren', \"aren't\", 'as', 'at', 'be', 'because', 'been', 'before', 'being', 'below', 'between', 'both', 'but', 'by', 'can', 'couldn', \"couldn't\", 'd', 'did', 'didn', \"didn't\", 'do', 'does', 'doesn', \"doesn't\", 'doing', 'don', \"don't\", 'down', 'during', 'each', 'few', 'for', 'from', 'further', 'had', 'hadn', \"hadn't\", 'has', 'hasn', \"hasn't\", 'have', 'haven', \"haven't\", 'having', 'he', \"he'd\", \"he'll\", 'her', 'here', 'hers', 'herself', \"he's\", 'him', 'himself', 'his', 'how', 'i', \"i'd\", 'if', \"i'll\", \"i'm\", 'in', 'into', 'is', 'isn', \"isn't\", 'it', \"it'd\", \"it'll\", \"it's\", 'its', 'itself', \"i've\", 'just', 'll', 'm', 'ma', 'me', 'mightn', \"mightn't\", 'more', 'most', 'mustn', \"mustn't\", 'my', 'myself', 'needn', \"needn't\", 'no', 'nor', 'not', 'now', 'o', 'of', 'off', 'on', 'once', 'only', 'or', 'other', 'our', 'ours', 'ourselves', 'out', 'over', 'own', 're', 's', 'same', 'shan', \"shan't\", 'she', \"she'd\", \"she'll\", \"she's\", 'should', 'shouldn', \"shouldn't\", \"should've\", 'so', 'some', 'such', 't', 'than', 'that', \"that'll\", 'the', 'their', 'theirs', 'them', 'themselves', 'then', 'there', 'these', 'they', \"they'd\", \"they'll\", \"they're\", \"they've\", 'this', 'those', 'through', 'to', 'too', 'under', 'until', 'up', 've', 'very', 'was', 'wasn', \"wasn't\", 'we', \"we'd\", \"we'll\", \"we're\", 'were', 'weren', \"weren't\", \"we've\", 'what', 'when', 'where', 'which', 'while', 'who', 'whom', 'why', 'will', 'with', 'won', \"won't\", 'wouldn', \"wouldn't\", 'y', 'you', \"you'd\", \"you'll\", 'your', \"you're\", 'yours', 'yourself', 'yourselves', \"you've\"]\n"
          ]
        }
      ]
    },
    {
      "cell_type": "code",
      "source": [
        "text = 'Best quality, Great sound, Good comfort with superb Headphone Design.'\n",
        "word_in_text = word_tokenize(text)\n",
        "print(word_in_text)"
      ],
      "metadata": {
        "colab": {
          "base_uri": "https://localhost:8080/"
        },
        "id": "eafw8PdWqiQ_",
        "outputId": "35fb5bb6-f1d6-4108-caa5-054f4521bfff"
      },
      "execution_count": 106,
      "outputs": [
        {
          "output_type": "stream",
          "name": "stdout",
          "text": [
            "['Best', 'quality', ',', 'Great', 'sound', ',', 'Good', 'comfort', 'with', 'superb', 'Headphone', 'Design', '.']\n"
          ]
        }
      ]
    },
    {
      "cell_type": "code",
      "source": [
        "filtered_list=[]\n",
        "for word in word_in_text:\n",
        "    if word.casefold() not in stop_words:\n",
        "        filtered_list.append(word)\n",
        "print(filtered_list)"
      ],
      "metadata": {
        "colab": {
          "base_uri": "https://localhost:8080/"
        },
        "id": "VtXwZu5nrEvD",
        "outputId": "7b6ecafb-2caf-4444-936b-ac5a81e1ca3a"
      },
      "execution_count": 107,
      "outputs": [
        {
          "output_type": "stream",
          "name": "stdout",
          "text": [
            "['Best', 'quality', ',', 'Great', 'sound', ',', 'Good', 'comfort', 'superb', 'Headphone', 'Design', '.']\n"
          ]
        }
      ]
    },
    {
      "cell_type": "code",
      "source": [
        "filtered_list = [word for word in word_in_text if word.casefold() not in stop_words]\n",
        "print(filtered_list)"
      ],
      "metadata": {
        "colab": {
          "base_uri": "https://localhost:8080/"
        },
        "id": "3TutxxxErSZF",
        "outputId": "5b566c70-4b23-406c-fe7d-423061439f2a"
      },
      "execution_count": 108,
      "outputs": [
        {
          "output_type": "stream",
          "name": "stdout",
          "text": [
            "['Best', 'quality', ',', 'Great', 'sound', ',', 'Good', 'comfort', 'superb', 'Headphone', 'Design', '.']\n"
          ]
        }
      ]
    },
    {
      "cell_type": "code",
      "source": [
        "# Stemming\n",
        "# Stemming reduces the complex words to the root word, eg; 'chocolatey', 'choco' to 'chocolate'\n",
        "from nltk.stem import PorterStemmer\n",
        "ps = PorterStemmer()\n",
        "words = ['wait','waiting','waited','waits']\n",
        "for word in words:\n",
        "    print(ps.stem(word))"
      ],
      "metadata": {
        "colab": {
          "base_uri": "https://localhost:8080/"
        },
        "id": "05Pk3hfUsBCa",
        "outputId": "9ccb06d2-b484-4804-c980-a26d298050ed"
      },
      "execution_count": 109,
      "outputs": [
        {
          "output_type": "stream",
          "name": "stdout",
          "text": [
            "wait\n",
            "wait\n",
            "wait\n",
            "wait\n"
          ]
        }
      ]
    },
    {
      "cell_type": "code",
      "source": [
        "nltk.download('wordnet')"
      ],
      "metadata": {
        "colab": {
          "base_uri": "https://localhost:8080/"
        },
        "id": "977SmD3nt5Bt",
        "outputId": "2619dcb9-c896-41b4-c1b3-e1722f63d3c6"
      },
      "execution_count": 110,
      "outputs": [
        {
          "output_type": "stream",
          "name": "stderr",
          "text": [
            "[nltk_data] Downloading package wordnet to /root/nltk_data...\n",
            "[nltk_data]   Package wordnet is already up-to-date!\n"
          ]
        },
        {
          "output_type": "execute_result",
          "data": {
            "text/plain": [
              "True"
            ]
          },
          "metadata": {},
          "execution_count": 110
        }
      ]
    },
    {
      "cell_type": "code",
      "source": [
        "from nltk.stem import WordNetLemmatizer\n",
        "lemmatizer = WordNetLemmatizer()\n",
        "\n",
        "words = ['wait','waiting','waited','waits']\n",
        "for word in words:\n",
        "    print(lemmatizer.lemmatize(word))"
      ],
      "metadata": {
        "colab": {
          "base_uri": "https://localhost:8080/"
        },
        "id": "98YFmVpDs8Zu",
        "outputId": "4be33ab1-a68a-4fab-d185-986a81786633"
      },
      "execution_count": 111,
      "outputs": [
        {
          "output_type": "stream",
          "name": "stdout",
          "text": [
            "wait\n",
            "waiting\n",
            "waited\n",
            "wait\n"
          ]
        }
      ]
    },
    {
      "cell_type": "code",
      "source": [
        "# difference b/w stemming and lemmatization\n",
        "from nltk.stem import PorterStemmer # import the PorterStemmer\n",
        "\n",
        "stemmer = PorterStemmer() # initialize the PorterStemmer\n",
        "words = ['Discovery','discovered','discoveries','Discovering']\n",
        "for word in words:\n",
        "    print(stemmer.stem(word))"
      ],
      "metadata": {
        "colab": {
          "base_uri": "https://localhost:8080/"
        },
        "id": "58GgHo2RuAxI",
        "outputId": "3c6f05cf-ba6f-422b-b10a-8d26c8d97f17"
      },
      "execution_count": 112,
      "outputs": [
        {
          "output_type": "stream",
          "name": "stdout",
          "text": [
            "discoveri\n",
            "discov\n",
            "discoveri\n",
            "discov\n"
          ]
        }
      ]
    },
    {
      "cell_type": "code",
      "source": [
        "words=['discovery','discovered','discoveries','discovering']\n",
        "for word in words:\n",
        "    print(lemmatizer.lemmatize(word))"
      ],
      "metadata": {
        "colab": {
          "base_uri": "https://localhost:8080/"
        },
        "id": "UOdxSdF1u4wt",
        "outputId": "efbbc235-f80c-4178-d676-cfbc6e02006e"
      },
      "execution_count": 113,
      "outputs": [
        {
          "output_type": "stream",
          "name": "stdout",
          "text": [
            "discovery\n",
            "discovered\n",
            "discovery\n",
            "discovering\n"
          ]
        }
      ]
    },
    {
      "cell_type": "code",
      "source": [
        "nltk.download('averaged_perceptron_tagger_eng')\n",
        "\n",
        "\n"
      ],
      "metadata": {
        "colab": {
          "base_uri": "https://localhost:8080/"
        },
        "id": "MpAVxhT5wnw9",
        "outputId": "4dcfe044-7738-4980-b8e3-f0b833ddc5b9"
      },
      "execution_count": 114,
      "outputs": [
        {
          "output_type": "stream",
          "name": "stderr",
          "text": [
            "[nltk_data] Downloading package averaged_perceptron_tagger_eng to\n",
            "[nltk_data]     /root/nltk_data...\n",
            "[nltk_data]   Package averaged_perceptron_tagger_eng is already up-to-\n",
            "[nltk_data]       date!\n"
          ]
        },
        {
          "output_type": "execute_result",
          "data": {
            "text/plain": [
              "True"
            ]
          },
          "metadata": {},
          "execution_count": 114
        }
      ]
    },
    {
      "cell_type": "code",
      "source": [
        "#part of speech tagging [pos tagging ]-- mark each word as noun ,adjective ,etc.\n",
        "text =\"the quick brown fox jumps over the lazy dog\"\n",
        "tokens = word_tokenize(text)\n",
        "nltk.pos_tag(tokens)\n"
      ],
      "metadata": {
        "colab": {
          "base_uri": "https://localhost:8080/"
        },
        "id": "qXQ8YaLRvQuN",
        "outputId": "c380d847-50a9-4dc1-fe88-0e1323a847fd"
      },
      "execution_count": 115,
      "outputs": [
        {
          "output_type": "execute_result",
          "data": {
            "text/plain": [
              "[('the', 'DT'),\n",
              " ('quick', 'JJ'),\n",
              " ('brown', 'NN'),\n",
              " ('fox', 'NN'),\n",
              " ('jumps', 'VBZ'),\n",
              " ('over', 'IN'),\n",
              " ('the', 'DT'),\n",
              " ('lazy', 'JJ'),\n",
              " ('dog', 'NN')]"
            ]
          },
          "metadata": {},
          "execution_count": 115
        }
      ]
    },
    {
      "cell_type": "code",
      "source": [
        "tokens"
      ],
      "metadata": {
        "colab": {
          "base_uri": "https://localhost:8080/"
        },
        "id": "0ptZIWVlwW96",
        "outputId": "db9d2f2d-69d3-49a2-f362-fc2605113e3c"
      },
      "execution_count": 116,
      "outputs": [
        {
          "output_type": "execute_result",
          "data": {
            "text/plain": [
              "['the', 'quick', 'brown', 'fox', 'jumps', 'over', 'the', 'lazy', 'dog']"
            ]
          },
          "metadata": {},
          "execution_count": 116
        }
      ]
    },
    {
      "cell_type": "code",
      "source": [
        "# TextBlob.correct() method\n",
        "from textblob import TextBlob\n",
        "p=TextBlob(\"I havv goood speling!\")\n",
        "print(p.correct())"
      ],
      "metadata": {
        "colab": {
          "base_uri": "https://localhost:8080/"
        },
        "id": "ERJxCwNmxIwx",
        "outputId": "3ddc1e8c-3d66-48f0-9d4c-f2ad5a414127"
      },
      "execution_count": 117,
      "outputs": [
        {
          "output_type": "stream",
          "name": "stdout",
          "text": [
            "I have good spelling!\n"
          ]
        }
      ]
    },
    {
      "cell_type": "code",
      "source": [
        "text = TextBlob('XYZ is a good comapany and alwasy value thier emplioye')\n",
        "print(text.correct())\n",
        "print(text)"
      ],
      "metadata": {
        "colab": {
          "base_uri": "https://localhost:8080/"
        },
        "id": "nJ5ro5w6xeVL",
        "outputId": "1ec95a3f-07e7-4ee5-d65f-d0f3e1622072"
      },
      "execution_count": 118,
      "outputs": [
        {
          "output_type": "stream",
          "name": "stdout",
          "text": [
            "XYZ is a good company and always value their employe\n",
            "XYZ is a good comapany and alwasy value thier emplioye\n"
          ]
        }
      ]
    },
    {
      "cell_type": "code",
      "source": [
        "!pip install googletrans"
      ],
      "metadata": {
        "colab": {
          "base_uri": "https://localhost:8080/"
        },
        "id": "7BmDiFzqx4cW",
        "outputId": "8d2726a5-5edb-4aa8-8c9c-1f4accb3305a"
      },
      "execution_count": 119,
      "outputs": [
        {
          "output_type": "stream",
          "name": "stdout",
          "text": [
            "Requirement already satisfied: googletrans in /usr/local/lib/python3.11/dist-packages (4.0.2)\n",
            "Requirement already satisfied: httpx>=0.27.2 in /usr/local/lib/python3.11/dist-packages (from httpx[http2]>=0.27.2->googletrans) (0.28.1)\n",
            "Requirement already satisfied: anyio in /usr/local/lib/python3.11/dist-packages (from httpx>=0.27.2->httpx[http2]>=0.27.2->googletrans) (4.9.0)\n",
            "Requirement already satisfied: certifi in /usr/local/lib/python3.11/dist-packages (from httpx>=0.27.2->httpx[http2]>=0.27.2->googletrans) (2025.1.31)\n",
            "Requirement already satisfied: httpcore==1.* in /usr/local/lib/python3.11/dist-packages (from httpx>=0.27.2->httpx[http2]>=0.27.2->googletrans) (1.0.7)\n",
            "Requirement already satisfied: idna in /usr/local/lib/python3.11/dist-packages (from httpx>=0.27.2->httpx[http2]>=0.27.2->googletrans) (3.10)\n",
            "Requirement already satisfied: h11<0.15,>=0.13 in /usr/local/lib/python3.11/dist-packages (from httpcore==1.*->httpx>=0.27.2->httpx[http2]>=0.27.2->googletrans) (0.14.0)\n",
            "Requirement already satisfied: h2<5,>=3 in /usr/local/lib/python3.11/dist-packages (from httpx[http2]>=0.27.2->googletrans) (4.2.0)\n",
            "Requirement already satisfied: hyperframe<7,>=6.1 in /usr/local/lib/python3.11/dist-packages (from h2<5,>=3->httpx[http2]>=0.27.2->googletrans) (6.1.0)\n",
            "Requirement already satisfied: hpack<5,>=4.1 in /usr/local/lib/python3.11/dist-packages (from h2<5,>=3->httpx[http2]>=0.27.2->googletrans) (4.1.0)\n",
            "Requirement already satisfied: sniffio>=1.1 in /usr/local/lib/python3.11/dist-packages (from anyio->httpx>=0.27.2->httpx[http2]>=0.27.2->googletrans) (1.3.1)\n",
            "Requirement already satisfied: typing_extensions>=4.5 in /usr/local/lib/python3.11/dist-packages (from anyio->httpx>=0.27.2->httpx[http2]>=0.27.2->googletrans) (4.13.0)\n"
          ]
        }
      ]
    },
    {
      "cell_type": "code",
      "source": [
        "import googletrans\n",
        "googletrans.LANGUAGES"
      ],
      "metadata": {
        "colab": {
          "base_uri": "https://localhost:8080/"
        },
        "id": "ieiZtWkGzObP",
        "outputId": "44fee767-2f3d-4fcb-a3ea-f58c3d163c91"
      },
      "execution_count": 120,
      "outputs": [
        {
          "output_type": "execute_result",
          "data": {
            "text/plain": [
              "{'abk': 'abkhaz',\n",
              " 'ace': 'acehnese',\n",
              " 'ach': 'acholi',\n",
              " 'aar': 'afar',\n",
              " 'af': 'afrikaans',\n",
              " 'sq': 'albanian',\n",
              " 'alz': 'alur',\n",
              " 'am': 'amharic',\n",
              " 'ar': 'arabic',\n",
              " 'hy': 'armenian',\n",
              " 'as': 'assamese',\n",
              " 'ava': 'avar',\n",
              " 'awa': 'awadhi',\n",
              " 'ay': 'aymara',\n",
              " 'az': 'azerbaijani',\n",
              " 'ban': 'balinese',\n",
              " 'bal': 'baluchi',\n",
              " 'bm': 'bambara',\n",
              " 'bci': 'baoulé',\n",
              " 'bak': 'bashkir',\n",
              " 'eu': 'basque',\n",
              " 'btx': 'batak karo',\n",
              " 'bts': 'batak simalungun',\n",
              " 'bbc': 'batak toba',\n",
              " 'be': 'belarusian',\n",
              " 'bem': 'bemba',\n",
              " 'bn': 'bengali',\n",
              " 'bew': 'betawi',\n",
              " 'bho': 'bhojpuri',\n",
              " 'bik': 'bikol',\n",
              " 'bs': 'bosnian',\n",
              " 'bre': 'breton',\n",
              " 'bg': 'bulgarian',\n",
              " 'bua': 'buryat',\n",
              " 'yue': 'cantonese',\n",
              " 'ca': 'catalan',\n",
              " 'ceb': 'cebuano',\n",
              " 'cha': 'chamorro',\n",
              " 'che': 'chechen',\n",
              " 'zh': 'chinese',\n",
              " 'zh-cn': 'chinese (simplified)',\n",
              " 'zh-tw': 'chinese (traditional)',\n",
              " 'chk': 'chuukese',\n",
              " 'chv': 'chuvash',\n",
              " 'co': 'corsican',\n",
              " 'crh': 'crimean tatar',\n",
              " 'hr': 'croatian',\n",
              " 'cs': 'czech',\n",
              " 'da': 'danish',\n",
              " 'fa-af': 'dari',\n",
              " 'dv': 'dhivehi',\n",
              " 'din': 'dinka',\n",
              " 'doi': 'dogri',\n",
              " 'dom': 'dombe',\n",
              " 'nl': 'dutch',\n",
              " 'dyu': 'dyula',\n",
              " 'dzo': 'dzongkha',\n",
              " 'en': 'english',\n",
              " 'eo': 'esperanto',\n",
              " 'et': 'estonian',\n",
              " 'fao': 'faroese',\n",
              " 'fij': 'fijian',\n",
              " 'fil': 'filipino (tagalog)',\n",
              " 'fi': 'finnish',\n",
              " 'fon': 'fon',\n",
              " 'fr': 'french',\n",
              " 'fy': 'frisian',\n",
              " 'fur': 'friulian',\n",
              " 'ful': 'fulani',\n",
              " 'gaa': 'ga',\n",
              " 'gl': 'galician',\n",
              " 'ka': 'georgian',\n",
              " 'de': 'german',\n",
              " 'el': 'greek',\n",
              " 'gn': 'guarani',\n",
              " 'gu': 'gujarati',\n",
              " 'ht': 'haitian creole',\n",
              " 'cnh': 'hakha chin',\n",
              " 'ha': 'hausa',\n",
              " 'haw': 'hawaiian',\n",
              " 'he': 'hebrew',\n",
              " 'iw': 'hebrew',\n",
              " 'hil': 'hiligaynon',\n",
              " 'hi': 'hindi',\n",
              " 'hmn': 'hmong',\n",
              " 'hu': 'hungarian',\n",
              " 'hrx': 'hunsrik',\n",
              " 'iba': 'iban',\n",
              " 'is': 'icelandic',\n",
              " 'ig': 'igbo',\n",
              " 'ilo': 'ilocano',\n",
              " 'id': 'indonesian',\n",
              " 'ga': 'irish',\n",
              " 'it': 'italian',\n",
              " 'jam': 'jamaican patois',\n",
              " 'ja': 'japanese',\n",
              " 'jv': 'javanese',\n",
              " 'jw': 'javanese',\n",
              " 'kac': 'jingpo',\n",
              " 'kal': 'kalaallisut',\n",
              " 'kn': 'kannada',\n",
              " 'kau': 'kanuri',\n",
              " 'pam': 'kapampangan',\n",
              " 'kk': 'kazakh',\n",
              " 'kha': 'khasi',\n",
              " 'km': 'khmer',\n",
              " 'cgg': 'kiga',\n",
              " 'kik': 'kikongo',\n",
              " 'rw': 'kinyarwanda',\n",
              " 'ktu': 'kituba',\n",
              " 'trp': 'kokborok',\n",
              " 'kom': 'komi',\n",
              " 'gom': 'konkani',\n",
              " 'ko': 'korean',\n",
              " 'kri': 'krio',\n",
              " 'ku': 'kurdish',\n",
              " 'ckb': 'kurdish (sorani)',\n",
              " 'ky': 'kyrgyz',\n",
              " 'lo': 'lao',\n",
              " 'ltg': 'latgalian',\n",
              " 'la': 'latin',\n",
              " 'lv': 'latvian',\n",
              " 'lij': 'ligurian',\n",
              " 'lim': 'limburgish',\n",
              " 'ln': 'lingala',\n",
              " 'lt': 'lithuanian',\n",
              " 'lmo': 'lombard',\n",
              " 'lg': 'luganda',\n",
              " 'luo': 'luo',\n",
              " 'lb': 'luxembourgish',\n",
              " 'mk': 'macedonian',\n",
              " 'mad': 'madurese',\n",
              " 'mai': 'maithili',\n",
              " 'mak': 'makassar',\n",
              " 'mg': 'malagasy',\n",
              " 'ms': 'malay',\n",
              " 'ms-arab': 'malay (jawi)',\n",
              " 'ml': 'malayalam',\n",
              " 'mt': 'maltese',\n",
              " 'mam': 'mam',\n",
              " 'glv': 'manx',\n",
              " 'mi': 'maori',\n",
              " 'mr': 'marathi',\n",
              " 'mah': 'marshallese',\n",
              " 'mwr': 'marwadi',\n",
              " 'mfe': 'mauritian creole',\n",
              " 'mhr': 'meadow mari',\n",
              " 'mni-mtei': 'meiteilon (manipuri)',\n",
              " 'min': 'minang',\n",
              " 'lus': 'mizo',\n",
              " 'mn': 'mongolian',\n",
              " 'my': 'myanmar (burmese)',\n",
              " 'nhe': 'nahuatl (eastern huasteca)',\n",
              " 'ndc-zw': 'ndau',\n",
              " 'nde': 'ndebele (south)',\n",
              " 'new': 'nepalbhasa (newari)',\n",
              " 'ne': 'nepali',\n",
              " 'no': 'norwegian',\n",
              " 'nus': 'nuer',\n",
              " 'ny': 'nyanja (chichewa)',\n",
              " 'oci': 'occitan',\n",
              " 'or': 'odia (oriya)',\n",
              " 'om': 'oromo',\n",
              " 'oss': 'ossetian',\n",
              " 'pag': 'pangasinan',\n",
              " 'pap': 'papiamento',\n",
              " 'ps': 'pashto',\n",
              " 'fa': 'persian',\n",
              " 'pl': 'polish',\n",
              " 'por': 'portuguese (portugal)',\n",
              " 'pt': 'portuguese (portugal, brazil)',\n",
              " 'pa': 'punjabi',\n",
              " 'pa-arab': 'punjabi (shahmukhi)',\n",
              " 'kek': \"q'eqchi'\",\n",
              " 'qu': 'quechua',\n",
              " 'rom': 'romani',\n",
              " 'ro': 'romanian',\n",
              " 'run': 'rundi',\n",
              " 'ru': 'russian',\n",
              " 'sme': 'sami (north)',\n",
              " 'sm': 'samoan',\n",
              " 'sag': 'sango',\n",
              " 'sa': 'sanskrit',\n",
              " 'sat': 'santali',\n",
              " 'gd': 'scots gaelic',\n",
              " 'nso': 'sepedi',\n",
              " 'sr': 'serbian',\n",
              " 'st': 'sesotho',\n",
              " 'crs': 'seychellois creole',\n",
              " 'shn': 'shan',\n",
              " 'sn': 'shona',\n",
              " 'scn': 'sicilian',\n",
              " 'szl': 'silesian',\n",
              " 'sd': 'sindhi',\n",
              " 'si': 'sinhala (sinhalese)',\n",
              " 'sk': 'slovak',\n",
              " 'sl': 'slovenian',\n",
              " 'so': 'somali',\n",
              " 'es': 'spanish',\n",
              " 'su': 'sundanese',\n",
              " 'sus': 'susu',\n",
              " 'sw': 'swahili',\n",
              " 'ssw': 'swati',\n",
              " 'sv': 'swedish',\n",
              " 'tl': 'tagalog (filipino)',\n",
              " 'tah': 'tahitian',\n",
              " 'tg': 'tajik',\n",
              " 'ber-atn': 'tamazight',\n",
              " 'ber': 'tamazight (tifinagh)',\n",
              " 'ta': 'tamil',\n",
              " 'tt': 'tatar',\n",
              " 'te': 'telugu',\n",
              " 'tet': 'tetum',\n",
              " 'th': 'thai',\n",
              " 'bod': 'tibetan',\n",
              " 'ti': 'tigrinya',\n",
              " 'tiv': 'tiv',\n",
              " 'tpi': 'tok pisin',\n",
              " 'ton': 'tongan',\n",
              " 'ts': 'tsonga',\n",
              " 'tsn': 'tswana',\n",
              " 'tcy': 'tulu',\n",
              " 'tum': 'tumbuka',\n",
              " 'tr': 'turkish',\n",
              " 'tk': 'turkmen',\n",
              " 'tuk': 'tuvan',\n",
              " 'ak': 'twi (akan)',\n",
              " 'udm': 'udmurt',\n",
              " 'uk': 'ukrainian',\n",
              " 'ur': 'urdu',\n",
              " 'ug': 'uyghur',\n",
              " 'uz': 'uzbek',\n",
              " 'ven': 'venda',\n",
              " 'vec': 'venetian',\n",
              " 'vi': 'vietnamese',\n",
              " 'war': 'waray',\n",
              " 'cy': 'welsh',\n",
              " 'wol': 'wolof',\n",
              " 'xh': 'xhosa',\n",
              " 'sah': 'yakut',\n",
              " 'yi': 'yiddish',\n",
              " 'yo': 'yoruba',\n",
              " 'yua': 'yucatec maya',\n",
              " 'zap': 'zapotec',\n",
              " 'zu': 'zulu'}"
            ]
          },
          "metadata": {},
          "execution_count": 120
        }
      ]
    },
    {
      "cell_type": "code",
      "source": [
        "from googletrans import Translator\n",
        "translator = Translator()\n"
      ],
      "metadata": {
        "id": "jh6kzvzizc7n"
      },
      "execution_count": 121,
      "outputs": []
    },
    {
      "cell_type": "code",
      "source": [
        "from_lang = 'th'\n",
        "to_lang = 'en'\n",
        "text = 'คุณเป็นอย่างไร'\n",
        "res = await translator.translate(text,src=from_lang,dest=to_lang)\n",
        "print(res.text)"
      ],
      "metadata": {
        "colab": {
          "base_uri": "https://localhost:8080/"
        },
        "id": "brFBZesOz0p4",
        "outputId": "fbc56077-9ee3-459a-b7d7-f3f0f61da2c8"
      },
      "execution_count": 122,
      "outputs": [
        {
          "output_type": "stream",
          "name": "stdout",
          "text": [
            "How are you\n"
          ]
        }
      ]
    },
    {
      "cell_type": "code",
      "source": [
        "from_lang = 'ms'\n",
        "to_lang = 'en'\n",
        "text = 'Saya suka NLP'\n",
        "res = await translator.translate(text,src=from_lang,dest=to_lang)\n",
        "print(res.text)"
      ],
      "metadata": {
        "colab": {
          "base_uri": "https://localhost:8080/"
        },
        "id": "eqFySXli0K-i",
        "outputId": "54ee7ec2-3831-43fd-9748-892a116c7cd2"
      },
      "execution_count": 123,
      "outputs": [
        {
          "output_type": "stream",
          "name": "stdout",
          "text": [
            "I love NLP\n"
          ]
        }
      ]
    },
    {
      "cell_type": "code",
      "source": [
        "from_lang = 'mr'\n",
        "to_lang = 'en'\n",
        "text = 'तुम्ही कसे आहात'\n",
        "res = await translator.translate(text,src=from_lang,dest=to_lang)\n",
        "print(res.text)"
      ],
      "metadata": {
        "colab": {
          "base_uri": "https://localhost:8080/"
        },
        "id": "k6T8lqe91guE",
        "outputId": "dd92af7c-4a4b-4931-c194-b06a8a5c1281"
      },
      "execution_count": 125,
      "outputs": [
        {
          "output_type": "stream",
          "name": "stdout",
          "text": [
            "How are you\n"
          ]
        }
      ]
    },
    {
      "cell_type": "code",
      "source": [
        "!pip install langdetect\n",
        "from langdetect import detect\n",
        "detect(\"Hello, how are you?\")"
      ],
      "metadata": {
        "colab": {
          "base_uri": "https://localhost:8080/",
          "height": 90
        },
        "id": "pfwoedQv2p4y",
        "outputId": "47dc55e0-d1cf-4699-ae3d-d35a35e489ab"
      },
      "execution_count": 126,
      "outputs": [
        {
          "output_type": "stream",
          "name": "stdout",
          "text": [
            "Requirement already satisfied: langdetect in /usr/local/lib/python3.11/dist-packages (1.0.9)\n",
            "Requirement already satisfied: six in /usr/local/lib/python3.11/dist-packages (from langdetect) (1.17.0)\n"
          ]
        },
        {
          "output_type": "execute_result",
          "data": {
            "text/plain": [
              "'en'"
            ],
            "application/vnd.google.colaboratory.intrinsic+json": {
              "type": "string"
            }
          },
          "metadata": {},
          "execution_count": 126
        }
      ]
    },
    {
      "cell_type": "code",
      "source": [
        "from langdetect import detect\n",
        "detect(\"Hello, how are you?\")"
      ],
      "metadata": {
        "colab": {
          "base_uri": "https://localhost:8080/",
          "height": 35
        },
        "id": "ypZDt-Aa2SlY",
        "outputId": "0e0727cd-6afd-4fee-b921-2f8795681b44"
      },
      "execution_count": 128,
      "outputs": [
        {
          "output_type": "execute_result",
          "data": {
            "text/plain": [
              "'en'"
            ],
            "application/vnd.google.colaboratory.intrinsic+json": {
              "type": "string"
            }
          },
          "metadata": {},
          "execution_count": 128
        }
      ]
    },
    {
      "cell_type": "code",
      "source": [
        "from langdetect import detect_langs\n",
        "detect_langs('तुम्ही कसे आहात')"
      ],
      "metadata": {
        "colab": {
          "base_uri": "https://localhost:8080/"
        },
        "id": "i0V_DHI-2jkF",
        "outputId": "7f8f7657-6233-460e-9ee9-e42d7042afef"
      },
      "execution_count": 127,
      "outputs": [
        {
          "output_type": "execute_result",
          "data": {
            "text/plain": [
              "[mr:0.9999998359035853]"
            ]
          },
          "metadata": {},
          "execution_count": 127
        }
      ]
    }
  ]
}