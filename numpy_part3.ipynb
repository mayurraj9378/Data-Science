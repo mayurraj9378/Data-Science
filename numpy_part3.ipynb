{
  "nbformat": 4,
  "nbformat_minor": 0,
  "metadata": {
    "colab": {
      "provenance": [],
      "authorship_tag": "ABX9TyNcTMZZXXlOBdW2lkclKgN5",
      "include_colab_link": true
    },
    "kernelspec": {
      "name": "python3",
      "display_name": "Python 3"
    },
    "language_info": {
      "name": "python"
    }
  },
  "cells": [
    {
      "cell_type": "markdown",
      "metadata": {
        "id": "view-in-github",
        "colab_type": "text"
      },
      "source": [
        "<a href=\"https://colab.research.google.com/github/mayurraj9378/Data-Science/blob/main/numpy_part3.ipynb\" target=\"_parent\"><img src=\"https://colab.research.google.com/assets/colab-badge.svg\" alt=\"Open In Colab\"/></a>"
      ]
    },
    {
      "cell_type": "code",
      "execution_count": null,
      "metadata": {
        "id": "L96GISZPJk3I"
      },
      "outputs": [],
      "source": [
        "import numpy as np\n"
      ]
    },
    {
      "cell_type": "code",
      "source": [
        "# astype() --> used to change the data type of an array into another data type\n",
        "\n",
        "arr = np.array([10,20,30])\n",
        "print(arr.dtype)\n",
        "\n",
        "arr = arr.astype('f')  # float64bits   f32bits\n",
        "print(arr.dtype)\n",
        "print(arr)"
      ],
      "metadata": {
        "colab": {
          "base_uri": "https://localhost:8080/"
        },
        "id": "LOLCAdM7Knpz",
        "outputId": "757730ad-ae37-4150-f4f5-2b82e3b9270b"
      },
      "execution_count": null,
      "outputs": [
        {
          "output_type": "stream",
          "name": "stdout",
          "text": [
            "int64\n",
            "float32\n",
            "[10. 20. 30.]\n"
          ]
        }
      ]
    },
    {
      "cell_type": "code",
      "source": [
        "arr = np.array([10.2,20.3,30.4],dtype='i')\n",
        "print(arr.dtype)\n",
        "print(arr)"
      ],
      "metadata": {
        "colab": {
          "base_uri": "https://localhost:8080/"
        },
        "id": "XZezXu7QKvML",
        "outputId": "5fb6c3fd-1dcb-4753-fdad-29b5c8a51799"
      },
      "execution_count": null,
      "outputs": [
        {
          "output_type": "stream",
          "name": "stdout",
          "text": [
            "int32\n",
            "[10 20 30]\n"
          ]
        }
      ]
    },
    {
      "cell_type": "code",
      "source": [
        "# copy()  and  view()\n",
        "# in copy() if you make any changes in original array , it won't effect copied array\n",
        "# and if you make any changes in copied array , it won't effect original array\n",
        "\n",
        "org_arr = np.array([10,20,30,40,50,60])\n",
        "copied_arr = org_arr.copy()\n",
        "\n",
        "print(org_arr)\n",
        "print(copied_arr)\n",
        "\n",
        "copied_arr[1] = 200\n",
        "print('Original Array : ',org_arr)\n",
        "print('Copied Array : ',copied_arr)"
      ],
      "metadata": {
        "colab": {
          "base_uri": "https://localhost:8080/"
        },
        "id": "M78xE6XuKyDW",
        "outputId": "1f9e5911-a43b-4993-9a48-8d4023bf4174"
      },
      "execution_count": null,
      "outputs": [
        {
          "output_type": "stream",
          "name": "stdout",
          "text": [
            "[10 20 30 40 50 60]\n",
            "[10 20 30 40 50 60]\n",
            "Original Array :  [10 20 30 40 50 60]\n",
            "Copied Array :  [ 10 200  30  40  50  60]\n"
          ]
        }
      ]
    },
    {
      "cell_type": "code",
      "source": [
        "# in view() if you make any changes in original array , it will effect copied array\n",
        "# and if you make any changes in copied array , it will effect original array\n",
        "\n",
        "org_arr = np.array([10,20,30,40,50,60])\n",
        "copied_arr = org_arr.view()\n",
        "\n",
        "print(org_arr)\n",
        "print(copied_arr)\n",
        "\n",
        "copied_arr[1] = 200\n",
        "print('Original Array : ',org_arr)\n",
        "print('Copied Array : ',copied_arr)"
      ],
      "metadata": {
        "colab": {
          "base_uri": "https://localhost:8080/"
        },
        "id": "tA4FJhG-K0aZ",
        "outputId": "0a1a86db-d51f-465c-9453-6a7f56bdd13f"
      },
      "execution_count": null,
      "outputs": [
        {
          "output_type": "stream",
          "name": "stdout",
          "text": [
            "[10 20 30 40 50 60]\n",
            "[10 20 30 40 50 60]\n",
            "Original Array :  [ 10 200  30  40  50  60]\n",
            "Copied Array :  [ 10 200  30  40  50  60]\n"
          ]
        }
      ]
    },
    {
      "cell_type": "code",
      "source": [
        "# reshape()\n",
        "# used to change the dimensions of an array\n",
        "\n",
        "# convert 1D into 2D\n",
        "\n",
        "arr = np.array([1,2,3,4,5,6,7,8,9,10,11,12])\n",
        "print(arr.shape)   # 12 -->  2X6  6X2  3X4  4X3  12X1  1X12\n",
        "\n",
        "arr = arr.reshape(2,6)\n",
        "print(arr)\n",
        "print(arr.shape)"
      ],
      "metadata": {
        "colab": {
          "base_uri": "https://localhost:8080/"
        },
        "id": "f2cXZc88K341",
        "outputId": "a63db4b6-dd83-4b43-be0e-1364453c502d"
      },
      "execution_count": null,
      "outputs": [
        {
          "output_type": "stream",
          "name": "stdout",
          "text": [
            "(12,)\n",
            "[[ 1  2  3  4  5  6]\n",
            " [ 7  8  9 10 11 12]]\n",
            "(2, 6)\n"
          ]
        }
      ]
    },
    {
      "cell_type": "code",
      "source": [
        "# reshape()\n",
        "# used to change the dimensions of an array\n",
        "\n",
        "# convert 1D into 2D\n",
        "\n",
        "arr = np.array([1,2,3,4,5,6,7,8,9,10,11,12])\n",
        "print(arr.shape)   # 12 -->  2X6  6X2  3X4  4X3  12X1  1X12\n",
        "\n",
        "arr = arr.reshape(2,6)\n",
        "print(arr)\n",
        "print(arr.shape)"
      ],
      "metadata": {
        "colab": {
          "base_uri": "https://localhost:8080/"
        },
        "id": "x2_A20YHK6kl",
        "outputId": "d7c5d418-3bbd-4816-9bbb-4bd6fbe34950"
      },
      "execution_count": null,
      "outputs": [
        {
          "output_type": "stream",
          "name": "stdout",
          "text": [
            "(12,)\n",
            "[[ 1  2  3  4  5  6]\n",
            " [ 7  8  9 10 11 12]]\n",
            "(2, 6)\n"
          ]
        }
      ]
    },
    {
      "cell_type": "code",
      "source": [
        "# convert 2D into 1D\n",
        "arr = np.array([[1,2,3],[4,5,6]])\n",
        "print(arr)\n",
        "print(arr.shape)\n",
        "\n",
        "arr = arr.reshape(6)\n",
        "print(arr)\n",
        "print(arr.shape)"
      ],
      "metadata": {
        "colab": {
          "base_uri": "https://localhost:8080/"
        },
        "id": "gQBXNyoCK9yl",
        "outputId": "107e0c94-9313-4e38-da22-2058713e5992"
      },
      "execution_count": null,
      "outputs": [
        {
          "output_type": "stream",
          "name": "stdout",
          "text": [
            "[[1 2 3]\n",
            " [4 5 6]]\n",
            "(2, 3)\n",
            "[1 2 3 4 5 6]\n",
            "(6,)\n"
          ]
        }
      ]
    },
    {
      "cell_type": "code",
      "source": [
        "arr = np.array([[1,2,3],[4,5,6]])\n",
        "arr = arr.reshape(-1)\n",
        "print(arr)\n",
        "print(arr.shape)"
      ],
      "metadata": {
        "colab": {
          "base_uri": "https://localhost:8080/"
        },
        "id": "tHu2o8xnLQUg",
        "outputId": "60d3f8f6-f031-4bac-c1f4-10fdfce52ca4"
      },
      "execution_count": null,
      "outputs": [
        {
          "output_type": "stream",
          "name": "stdout",
          "text": [
            "[1 2 3 4 5 6]\n",
            "(6,)\n"
          ]
        }
      ]
    },
    {
      "cell_type": "code",
      "source": [
        "# Filter an array\n",
        "arr = np.array([1,4,2,7,8,3,9,10,2,4])\n",
        "res = arr > 5\n",
        "print(res)  # BOOLEAN MASKING\n",
        "print(arr[res])"
      ],
      "metadata": {
        "colab": {
          "base_uri": "https://localhost:8080/"
        },
        "id": "7ajxgvNiLS0j",
        "outputId": "a38e2304-7dc9-4808-fb89-d297069ae56a"
      },
      "execution_count": null,
      "outputs": [
        {
          "output_type": "stream",
          "name": "stdout",
          "text": [
            "[False False False  True  True False  True  True False False]\n",
            "[ 7  8  9 10]\n"
          ]
        }
      ]
    },
    {
      "cell_type": "code",
      "source": [
        "arr = np.array([1,4,2,7,8,3,9,10,2,4])\n",
        "res = arr%2==0\n",
        "print(res)  # BOOLEAN MASKING\n",
        "print(arr[res])"
      ],
      "metadata": {
        "colab": {
          "base_uri": "https://localhost:8080/"
        },
        "id": "xyDcgjheLV2H",
        "outputId": "c0fa1e88-a0ce-4fdb-c451-e49f97d38bc3"
      },
      "execution_count": null,
      "outputs": [
        {
          "output_type": "stream",
          "name": "stdout",
          "text": [
            "[False  True  True False  True False False  True  True  True]\n",
            "[ 4  2  8 10  2  4]\n"
          ]
        }
      ]
    },
    {
      "cell_type": "code",
      "source": [
        "arr = np.array([1,4,2,7,8,3,9,10,2,4])\n",
        "res = (arr > 4) & (arr < 9)\n",
        "print(arr[res])"
      ],
      "metadata": {
        "colab": {
          "base_uri": "https://localhost:8080/"
        },
        "id": "qzvIzVNQLYTq",
        "outputId": "bb255896-5160-4073-fe54-f019a0dfd6f9"
      },
      "execution_count": null,
      "outputs": [
        {
          "output_type": "stream",
          "name": "stdout",
          "text": [
            "[7 8]\n"
          ]
        }
      ]
    },
    {
      "cell_type": "code",
      "source": [
        "# Modify Elements Using Boolean Indexing\n",
        "arr = np.array([10,12,15,18,19,21,25,32,35,36])\n",
        "print(arr)\n",
        "copied_arr = arr.copy()\n",
        "copied_arr[arr%2==0] = 0\n",
        "print(copied_arr)"
      ],
      "metadata": {
        "colab": {
          "base_uri": "https://localhost:8080/"
        },
        "id": "2ICkOrPnLaeS",
        "outputId": "11c84d72-1de8-44fa-ab8c-27743c86556a"
      },
      "execution_count": null,
      "outputs": [
        {
          "output_type": "stream",
          "name": "stdout",
          "text": [
            "[10 12 15 18 19 21 25 32 35 36]\n",
            "[ 0  0 15  0 19 21 25  0 35  0]\n"
          ]
        }
      ]
    },
    {
      "cell_type": "code",
      "source": [],
      "metadata": {
        "id": "AX7jVIOzLku2"
      },
      "execution_count": null,
      "outputs": []
    }
  ]
}