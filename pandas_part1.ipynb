{
  "nbformat": 4,
  "nbformat_minor": 0,
  "metadata": {
    "colab": {
      "provenance": [],
      "authorship_tag": "ABX9TyPN0fLdhdg7HiGltX2PuOz+",
      "include_colab_link": true
    },
    "kernelspec": {
      "name": "python3",
      "display_name": "Python 3"
    },
    "language_info": {
      "name": "python"
    }
  },
  "cells": [
    {
      "cell_type": "markdown",
      "metadata": {
        "id": "view-in-github",
        "colab_type": "text"
      },
      "source": [
        "<a href=\"https://colab.research.google.com/github/mayurraj9378/Data-Science/blob/main/pandas_part1.ipynb\" target=\"_parent\"><img src=\"https://colab.research.google.com/assets/colab-badge.svg\" alt=\"Open In Colab\"/></a>"
      ]
    },
    {
      "cell_type": "code",
      "source": [
        "# Pandas\n",
        "# Pandas is a fast, powerful, flexible, and easy-to-use open-source data analysis and\n",
        "# manipulation tool, built on top of the Python programming language.\n",
        "\n",
        "# Pandas is the backbone of most data science projects\n",
        "\n",
        "# Pandas is an open-source Python library providing high-performance,\n",
        "# easy-to-use data structures and data analysis tools for the Python\n",
        "# programming language. Python with Pandas is used in a wide range of\n",
        "# fields including academic and commercial domains such as finance,\n",
        "# economics, statistics, analytics, etc.\n",
        "\n",
        "# In 2008, developer Wes McKinney started developing Pandas when he needed\n",
        "# a high-performance, flexible tool for data analysis.\n",
        "\n",
        "# Prior to Pandas, Python was majorly used for data munging and preparation.\n",
        "# It had very little contribution towards data analysis.\n",
        "# Pandas solved this problem. Using Pandas, we can accomplish five typical\n",
        "# steps in the processing and analysis of data, regardless of the\n",
        "# origin of data - load, prepare, manipulate, model, and analyze.\n",
        "\n",
        "# Key Features of Pandas\n",
        "\n",
        "# a.) Tools for loading data into in-memory data objects from different file formats\n",
        "# b.) Data alignment and integrated handling of missing data\n",
        "# c.) Label-based slicing, indexing, and subsetting of large datasets\n",
        "# d.) Columns from a data structure can be deleted or inserted\n",
        "# e.) Grouping of data for aggregation and transformations\n",
        "# f.) High-performance merging and joining of data\n",
        "# g.) Time Series functionality\n",
        "\n",
        "# NumPy vs Pandas\n",
        "\n",
        "# a.) The Pandas module mainly works with tabular data, whereas the NumPy module works with\n",
        "# numerical data.\n",
        "\n",
        "# b.) Pandas provides powerful tools like DataFrame and Series that are mainly used\n",
        "# for analyzing data, whereas the NumPy module offers a powerful object called Array.\n",
        "\n",
        "# c.) Pandas covers a broader range of applications, being mentioned in\n",
        "# 73 company stacks and 46 developer stacks, whereas NumPy is mentioned in\n",
        "# 62 company stacks and 32 developer stacks.\n",
        "\n",
        "# d.) Pandas has better performance for datasets with a large number of rows,\n",
        "# whereas NumPy performs better for smaller datasets (50K rows or less).\n"
      ],
      "metadata": {
        "id": "-cCC3yhlbWp7"
      },
      "execution_count": null,
      "outputs": []
    },
    {
      "cell_type": "code",
      "execution_count": null,
      "metadata": {
        "id": "ord-suMfBIIP"
      },
      "outputs": [],
      "source": [
        "import numpy as np\n",
        "import pandas as pd"
      ]
    },
    {
      "cell_type": "code",
      "source": [
        "print(pd.__version__)"
      ],
      "metadata": {
        "colab": {
          "base_uri": "https://localhost:8080/"
        },
        "id": "V_giF-YBSZbb",
        "outputId": "cd42b32c-192d-403e-d082-6dda15e3765d"
      },
      "execution_count": null,
      "outputs": [
        {
          "output_type": "stream",
          "name": "stdout",
          "text": [
            "2.2.2\n"
          ]
        }
      ]
    },
    {
      "cell_type": "code",
      "source": [
        "arr = np.array([1,2,5,8])\n",
        "print(arr)\n",
        "print(type(arr))"
      ],
      "metadata": {
        "id": "9ERi7eTxSdkv",
        "colab": {
          "base_uri": "https://localhost:8080/"
        },
        "outputId": "8971365f-844f-4448-cfdb-e8c58793a707"
      },
      "execution_count": null,
      "outputs": [
        {
          "output_type": "stream",
          "name": "stdout",
          "text": [
            "[1 2 5 8]\n",
            "<class 'numpy.ndarray'>\n"
          ]
        }
      ]
    },
    {
      "cell_type": "code",
      "source": [
        "Series = pd.Series(arr)\n",
        "print(type(Series))\n",
        "print(Series)"
      ],
      "metadata": {
        "colab": {
          "base_uri": "https://localhost:8080/"
        },
        "id": "eBhNu79JbszX",
        "outputId": "9f2f11e3-9e7d-413e-fcc2-c090de45963c"
      },
      "execution_count": null,
      "outputs": [
        {
          "output_type": "stream",
          "name": "stdout",
          "text": [
            "<class 'pandas.core.series.Series'>\n",
            "0    1\n",
            "1    2\n",
            "2    5\n",
            "3    8\n",
            "dtype: int64\n"
          ]
        }
      ]
    },
    {
      "cell_type": "code",
      "source": [
        "age = pd.Series([67,76,12],index=['age1','age2','age3'])\n",
        "print(age)\n",
        "print(age['age2'])\n",
        "print(age['age3'])\n",
        "print(age.iloc[0])"
      ],
      "metadata": {
        "colab": {
          "base_uri": "https://localhost:8080/"
        },
        "id": "LpvgeI-3b21I",
        "outputId": "a657e2f3-02ae-45df-ea03-18d79591b386"
      },
      "execution_count": null,
      "outputs": [
        {
          "output_type": "stream",
          "name": "stdout",
          "text": [
            "age1    67\n",
            "age2    76\n",
            "age3    12\n",
            "dtype: int64\n",
            "76\n",
            "12\n",
            "67\n"
          ]
        }
      ]
    },
    {
      "cell_type": "code",
      "source": [
        "s = pd.Series([10,20,30,40,50],index=['val1','val2','val3','val4','val5'])\n",
        "print(s)\n",
        "print(s.iloc[2])\n",
        "print(s['val3'])\n",
        "print(s['val1':'val4'])"
      ],
      "metadata": {
        "colab": {
          "base_uri": "https://localhost:8080/"
        },
        "id": "OuEVie8gb6xJ",
        "outputId": "f2245ef5-efde-4924-cf70-2e197e5fb50e"
      },
      "execution_count": null,
      "outputs": [
        {
          "output_type": "stream",
          "name": "stdout",
          "text": [
            "val1    10\n",
            "val2    20\n",
            "val3    30\n",
            "val4    40\n",
            "val5    50\n",
            "dtype: int64\n",
            "30\n",
            "30\n",
            "val1    10\n",
            "val2    20\n",
            "val3    30\n",
            "val4    40\n",
            "dtype: int64\n"
          ]
        }
      ]
    },
    {
      "cell_type": "code",
      "source": [
        "print(\"\\nusing for loop\")\n",
        "for i in s:\n",
        "  print(i)"
      ],
      "metadata": {
        "colab": {
          "base_uri": "https://localhost:8080/"
        },
        "id": "mUGi30nyb__i",
        "outputId": "8c2cbd0a-a40e-4e05-ce22-9160d2855c8f"
      },
      "execution_count": null,
      "outputs": [
        {
          "output_type": "stream",
          "name": "stdout",
          "text": [
            "\n",
            "using for loop\n",
            "10\n",
            "20\n",
            "30\n",
            "40\n",
            "50\n"
          ]
        }
      ]
    },
    {
      "cell_type": "code",
      "source": [
        "print(\"\\nPerforming Numerical Computation\")\n",
        "print(s*2)"
      ],
      "metadata": {
        "colab": {
          "base_uri": "https://localhost:8080/"
        },
        "id": "FuHjPI2FcEWY",
        "outputId": "cdb865e8-5d1e-446b-890e-461698b26e44"
      },
      "execution_count": null,
      "outputs": [
        {
          "output_type": "stream",
          "name": "stdout",
          "text": [
            "\n",
            "Performing Numerical Computation\n",
            "val1     20\n",
            "val2     40\n",
            "val3     60\n",
            "val4     80\n",
            "val5    100\n",
            "dtype: int64\n"
          ]
        }
      ]
    },
    {
      "cell_type": "code",
      "source": [
        "s = pd.Series([10,20,30,40,50],index=['val1','val2','val3','val4','val5'])\n",
        "print(s.values)\n",
        "print(s.shape)\n",
        "print(s.index)\n",
        "print(s.dtype)"
      ],
      "metadata": {
        "id": "vZ-iggvUcNIb",
        "outputId": "79f35cf0-0214-4ccb-a593-fdc6a6d681a6",
        "colab": {
          "base_uri": "https://localhost:8080/"
        }
      },
      "execution_count": null,
      "outputs": [
        {
          "output_type": "stream",
          "name": "stdout",
          "text": [
            "[10 20 30 40 50]\n",
            "(5,)\n",
            "Index(['val1', 'val2', 'val3', 'val4', 'val5'], dtype='object')\n",
            "int64\n"
          ]
        }
      ]
    },
    {
      "cell_type": "code",
      "source": [],
      "metadata": {
        "id": "sqEru7-TcR4m"
      },
      "execution_count": null,
      "outputs": []
    }
  ]
}