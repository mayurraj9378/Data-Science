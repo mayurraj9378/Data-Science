{
  "nbformat": 4,
  "nbformat_minor": 0,
  "metadata": {
    "colab": {
      "provenance": [],
      "authorship_tag": "ABX9TyM4pKekooM9MstyXaHAdhw1",
      "include_colab_link": true
    },
    "kernelspec": {
      "name": "python3",
      "display_name": "Python 3"
    },
    "language_info": {
      "name": "python"
    }
  },
  "cells": [
    {
      "cell_type": "markdown",
      "metadata": {
        "id": "view-in-github",
        "colab_type": "text"
      },
      "source": [
        "<a href=\"https://colab.research.google.com/github/mayurraj9378/Data-Science/blob/main/numpy_part4.ipynb\" target=\"_parent\"><img src=\"https://colab.research.google.com/assets/colab-badge.svg\" alt=\"Open In Colab\"/></a>"
      ]
    },
    {
      "cell_type": "code",
      "execution_count": null,
      "metadata": {
        "id": "H8UfASmAPcON"
      },
      "outputs": [],
      "source": [
        "import numpy as np\n"
      ]
    },
    {
      "cell_type": "code",
      "source": [
        "#where()-->returns index numbers in an output\n",
        "arr=np.array([8,94,8,56,1,3,4,5,7])\n",
        "print(arr)\n",
        "x=np.where(arr>5)\n",
        "print(x)\n",
        "print(arr[x])\n",
        "print(x)\n"
      ],
      "metadata": {
        "colab": {
          "base_uri": "https://localhost:8080/"
        },
        "id": "i_vBJtYbPgob",
        "outputId": "0cc845ce-4c4c-4d55-de1e-e3b64f5d3c3b"
      },
      "execution_count": null,
      "outputs": [
        {
          "output_type": "stream",
          "name": "stdout",
          "text": [
            "[ 8 94  8 56  1  3  4  5  7]\n",
            "(array([0, 1, 2, 3, 8]),)\n",
            "[ 8 94  8 56  7]\n",
            "(array([0, 1, 2, 3, 8]),)\n"
          ]
        }
      ]
    },
    {
      "cell_type": "code",
      "source": [
        "#concatenate()\n",
        "arr1=np.array([1,2,3])\n",
        "arr2=np.array([4,5,6])\n",
        "arr=np.concatenate((arr1,arr2))\n",
        "print(arr)"
      ],
      "metadata": {
        "colab": {
          "base_uri": "https://localhost:8080/"
        },
        "id": "SV5XRax3QmYe",
        "outputId": "1b71d5d9-5a49-4ee4-f579-e6418f9c5179"
      },
      "execution_count": null,
      "outputs": [
        {
          "output_type": "stream",
          "name": "stdout",
          "text": [
            "[1 2 3 4 5 6]\n"
          ]
        }
      ]
    },
    {
      "cell_type": "code",
      "source": [
        "arr2=np.array([[1,2],[3,4]])\n",
        "arr3=np.array([[5,6],[7,8]])\n",
        "arr=np.concatenate((arr2,arr3),axis=1)\n",
        "print(arr)"
      ],
      "metadata": {
        "colab": {
          "base_uri": "https://localhost:8080/"
        },
        "id": "kMLlDXb-Rr8F",
        "outputId": "7f412267-34c3-4506-c640-9207ccc165d0"
      },
      "execution_count": null,
      "outputs": [
        {
          "output_type": "stream",
          "name": "stdout",
          "text": [
            "[[1 2 5 6]\n",
            " [3 4 7 8]]\n"
          ]
        }
      ]
    },
    {
      "cell_type": "code",
      "source": [
        "arr1 = np.array([[1,2,3],[4,5,6]])\n",
        "arr2 = np.array([[7,8,9],[10,11,12],[13,14,15]])\n",
        "arr =np.concatenate((arr1,arr2))\n",
        "print(arr)"
      ],
      "metadata": {
        "colab": {
          "base_uri": "https://localhost:8080/"
        },
        "id": "LPy1K2FhR8Tb",
        "outputId": "305ee6d4-e2ea-4c6f-ed9f-e8ae5fc01eaf"
      },
      "execution_count": null,
      "outputs": [
        {
          "output_type": "stream",
          "name": "stdout",
          "text": [
            "[[ 1  2  3]\n",
            " [ 4  5  6]\n",
            " [ 7  8  9]\n",
            " [10 11 12]\n",
            " [13 14 15]]\n"
          ]
        }
      ]
    },
    {
      "cell_type": "code",
      "source": [
        "#split\n",
        "#array_split(arrayName,splitValue)\n",
        "arr1=np.array([3,4,5,6,7,8,9,10,3,4,5,6])\n",
        "newarr=np.array_split(arr1,3)\n",
        "print(newarr)\n",
        "print(arr1.shape)\n",
        "newarr=np.array_split(arr1,4)\n",
        "print(newarr)"
      ],
      "metadata": {
        "colab": {
          "base_uri": "https://localhost:8080/"
        },
        "id": "lqomNdni6NZa",
        "outputId": "8348c17f-9fb1-4852-eabf-6519e5944823"
      },
      "execution_count": null,
      "outputs": [
        {
          "output_type": "stream",
          "name": "stdout",
          "text": [
            "[array([3, 4, 5, 6]), array([ 7,  8,  9, 10]), array([3, 4, 5, 6])]\n",
            "(12,)\n",
            "[array([3, 4, 5]), array([6, 7, 8]), array([ 9, 10,  3]), array([4, 5, 6])]\n"
          ]
        }
      ]
    },
    {
      "cell_type": "code",
      "source": [
        "#sorting of array\n",
        "arr = np.array([1,4,2,7,9,3,5,8,6,10])\n",
        "print(arr)\n",
        "print(np.sort(arr))#by default it will sort in ascending order\n",
        "print(np.sort(arr)[::-1])#by default it will sort in decending order"
      ],
      "metadata": {
        "colab": {
          "base_uri": "https://localhost:8080/"
        },
        "id": "MMWJu8SXUDA2",
        "outputId": "c2ff924d-d4f5-41b8-be1d-f16c53320552"
      },
      "execution_count": null,
      "outputs": [
        {
          "output_type": "stream",
          "name": "stdout",
          "text": [
            "[ 1  4  2  7  9  3  5  8  6 10]\n",
            "[ 1  2  3  4  5  6  7  8  9 10]\n",
            "[10  9  8  7  6  5  4  3  2  1]\n"
          ]
        }
      ]
    },
    {
      "cell_type": "code",
      "source": [
        "#zeros()\n",
        "#it is used to create an array filled with zeros\n",
        "#by default data type will be float\n",
        "arr=np.zeros(4)\n",
        "print(arr)\n",
        "x=np.zeros(7)\n",
        "print(x)"
      ],
      "metadata": {
        "colab": {
          "base_uri": "https://localhost:8080/"
        },
        "id": "DjM1eMm9VQmB",
        "outputId": "c5258ede-8619-4e90-969f-0c1ae49e819e"
      },
      "execution_count": null,
      "outputs": [
        {
          "output_type": "stream",
          "name": "stdout",
          "text": [
            "[0. 0. 0. 0.]\n",
            "[0. 0. 0. 0. 0. 0. 0.]\n"
          ]
        }
      ]
    },
    {
      "cell_type": "code",
      "source": [
        "x=np.zeros((3,3),dtype='i')\n",
        "print(x)\n",
        "#here the . dots are removed as it is integer"
      ],
      "metadata": {
        "colab": {
          "base_uri": "https://localhost:8080/"
        },
        "id": "T1mS8MiPV0cL",
        "outputId": "1546e359-4de8-49a4-f71a-e81359a911f0"
      },
      "execution_count": null,
      "outputs": [
        {
          "output_type": "stream",
          "name": "stdout",
          "text": [
            "[[0 0 0]\n",
            " [0 0 0]\n",
            " [0 0 0]]\n"
          ]
        }
      ]
    },
    {
      "cell_type": "code",
      "source": [
        "x=np.zeros((3,3))\n",
        "print(x)"
      ],
      "metadata": {
        "colab": {
          "base_uri": "https://localhost:8080/"
        },
        "id": "z9Hf1uBuWYo3",
        "outputId": "f155f4cd-6767-411d-cc41-d2c6e34e4cf2"
      },
      "execution_count": null,
      "outputs": [
        {
          "output_type": "stream",
          "name": "stdout",
          "text": [
            "[[0. 0. 0.]\n",
            " [0. 0. 0.]\n",
            " [0. 0. 0.]]\n"
          ]
        }
      ]
    },
    {
      "cell_type": "code",
      "source": [
        "#ones()\n",
        "#it is used to create an array filled with ones\n",
        "#by default data type will be float\n",
        "x=np.ones(7)\n",
        "print(x)"
      ],
      "metadata": {
        "colab": {
          "base_uri": "https://localhost:8080/"
        },
        "id": "H92o6BI4Wo6q",
        "outputId": "b8fd1ba4-8d13-4eef-f0c7-febfb125176e"
      },
      "execution_count": null,
      "outputs": [
        {
          "output_type": "stream",
          "name": "stdout",
          "text": [
            "[1. 1. 1. 1. 1. 1. 1.]\n"
          ]
        }
      ]
    },
    {
      "cell_type": "code",
      "source": [
        "x=np.ones(7,dtype='i')\n",
        "print(x)"
      ],
      "metadata": {
        "colab": {
          "base_uri": "https://localhost:8080/"
        },
        "id": "v2fdr42oXUQZ",
        "outputId": "8dddaa4c-dd74-4751-f9a5-51e883ea33af"
      },
      "execution_count": null,
      "outputs": [
        {
          "output_type": "stream",
          "name": "stdout",
          "text": [
            "[1 1 1 1 1 1 1]\n"
          ]
        }
      ]
    },
    {
      "cell_type": "code",
      "source": [],
      "metadata": {
        "id": "zvBXKeV-XXaQ"
      },
      "execution_count": null,
      "outputs": []
    }
  ]
}