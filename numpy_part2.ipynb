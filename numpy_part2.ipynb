{
  "nbformat": 4,
  "nbformat_minor": 0,
  "metadata": {
    "colab": {
      "provenance": [],
      "authorship_tag": "ABX9TyO5ipn2F4fb0z3daKmt1xpl",
      "include_colab_link": true
    },
    "kernelspec": {
      "name": "python3",
      "display_name": "Python 3"
    },
    "language_info": {
      "name": "python"
    }
  },
  "cells": [
    {
      "cell_type": "markdown",
      "metadata": {
        "id": "view-in-github",
        "colab_type": "text"
      },
      "source": [
        "<a href=\"https://colab.research.google.com/github/mayurraj9378/Data-Science/blob/main/numpy_part2.ipynb\" target=\"_parent\"><img src=\"https://colab.research.google.com/assets/colab-badge.svg\" alt=\"Open In Colab\"/></a>"
      ]
    },
    {
      "cell_type": "code",
      "execution_count": null,
      "metadata": {
        "id": "ZQdiWpezIYYn"
      },
      "outputs": [],
      "source": [
        "import numpy as np"
      ]
    },
    {
      "cell_type": "code",
      "source": [
        "# numpy array()\n",
        "arr = np.array([10,20,30,40,50,60])\n",
        "print(arr)"
      ],
      "metadata": {
        "colab": {
          "base_uri": "https://localhost:8080/"
        },
        "id": "55VyoT0MJF71",
        "outputId": "2c3e529f-4746-4783-e495-f22249a12bf7"
      },
      "execution_count": null,
      "outputs": [
        {
          "output_type": "stream",
          "name": "stdout",
          "text": [
            "[10 20 30 40 50 60]\n"
          ]
        }
      ]
    },
    {
      "cell_type": "code",
      "source": [
        "# shape property\n",
        "# used to determine the dimensions of an array\n",
        "\n",
        "# for 1D array shape returns (n,)\n",
        "# where n is the number of elements\n",
        "\n",
        "# for 2D array shape returns (n,m)\n",
        "# where n is the number of rows and m is the number of columns\n",
        "\n",
        "print(arr.shape)"
      ],
      "metadata": {
        "colab": {
          "base_uri": "https://localhost:8080/"
        },
        "id": "5ALzG_Y4Iq3p",
        "outputId": "09ce3865-645f-4d5f-817f-6e747d361865"
      },
      "execution_count": null,
      "outputs": [
        {
          "output_type": "stream",
          "name": "stdout",
          "text": [
            "(6,)\n"
          ]
        }
      ]
    },
    {
      "cell_type": "code",
      "source": [
        "# Indexing and Slicing\n",
        "print(arr)\n",
        "\n",
        "# 10 20 30 40 50 60\n",
        "# 0   1  2  3  4  5\n",
        "# -6  -5 -4 -3 -2 -1\n",
        "\n",
        "print(arr[2])\n",
        "print(arr[-1])\n",
        "\n",
        "print(arr[1:5])\n",
        "\n",
        "# wap to print array elements in a reverse order\n",
        "print(arr[::-1])"
      ],
      "metadata": {
        "colab": {
          "base_uri": "https://localhost:8080/"
        },
        "id": "Zjjbyd5nI6ve",
        "outputId": "a3dd5317-43ca-4b4e-9d4b-99954ef0889e"
      },
      "execution_count": null,
      "outputs": [
        {
          "output_type": "stream",
          "name": "stdout",
          "text": [
            "[10 20 30 40 50 60]\n",
            "30\n",
            "60\n",
            "[20 30 40 50]\n",
            "[60 50 40 30 20 10]\n"
          ]
        }
      ]
    },
    {
      "cell_type": "code",
      "source": [
        "# 2D Array\n",
        "arr = np.array([[1,2,3],[4,5,6],[7,8,9]])\n",
        "print(arr)\n",
        "print(arr.shape)\n",
        "\n",
        "arr = np.array([[1,2],[3,4],[5,6],[7,8]])\n",
        "print(arr.shape)"
      ],
      "metadata": {
        "colab": {
          "base_uri": "https://localhost:8080/"
        },
        "id": "Bjo_JPQPJS8v",
        "outputId": "7aa3d2a7-0ab7-4c00-9df5-202db5882f9e"
      },
      "execution_count": null,
      "outputs": [
        {
          "output_type": "stream",
          "name": "stdout",
          "text": [
            "[[1 2 3]\n",
            " [4 5 6]\n",
            " [7 8 9]]\n",
            "(3, 3)\n",
            "(4, 2)\n"
          ]
        }
      ]
    },
    {
      "cell_type": "code",
      "source": [
        "# indexing in 2D Array\n",
        "arr = np.array([[1,2,3],[4,5,6],[7,8,9]])\n",
        "print(arr)\n",
        "print(arr.shape)\n",
        "\n",
        "print(arr[0,2])\n",
        "\n",
        "# print the second row\n",
        "print(arr[1,:])\n",
        "\n",
        "# print the third column\n",
        "print(arr[:,2])"
      ],
      "metadata": {
        "colab": {
          "base_uri": "https://localhost:8080/"
        },
        "id": "BDHznPKzJV5t",
        "outputId": "8102bf0c-a29e-4271-f5a3-7bfa8fa7b589"
      },
      "execution_count": null,
      "outputs": [
        {
          "output_type": "stream",
          "name": "stdout",
          "text": [
            "[[1 2 3]\n",
            " [4 5 6]\n",
            " [7 8 9]]\n",
            "(3, 3)\n",
            "3\n",
            "[4 5 6]\n",
            "[3 6 9]\n"
          ]
        }
      ]
    },
    {
      "cell_type": "code",
      "source": [
        "# dtype property : used to determine the data type of an array\n",
        "arr = np.array([10,20,30,40,50])\n",
        "print(arr.dtype)\n",
        "\n",
        "arr = np.array([10,20,30,40,50],dtype='i2')\n",
        "print(arr.dtype)\n",
        "\n",
        "arr = np.array([10,20,30,40,50],dtype='i1')\n",
        "print(arr.dtype)"
      ],
      "metadata": {
        "id": "1vNr_j7BJY_F",
        "outputId": "09b87748-b774-4fcf-c4c1-1f4ec5a907b5",
        "colab": {
          "base_uri": "https://localhost:8080/"
        }
      },
      "execution_count": null,
      "outputs": [
        {
          "output_type": "stream",
          "name": "stdout",
          "text": [
            "int64\n",
            "int16\n",
            "int8\n"
          ]
        }
      ]
    },
    {
      "cell_type": "code",
      "source": [],
      "metadata": {
        "id": "XJLULnY4JcGT"
      },
      "execution_count": null,
      "outputs": []
    }
  ]
}